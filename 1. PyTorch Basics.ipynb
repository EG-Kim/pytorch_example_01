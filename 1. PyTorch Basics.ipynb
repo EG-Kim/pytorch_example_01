{
  "nbformat": 4,
  "nbformat_minor": 0,
  "metadata": {
    "colab": {
      "name": "1. PyTorch Basics",
      "provenance": [],
      "collapsed_sections": []
    },
    "kernelspec": {
      "name": "python3",
      "display_name": "Python 3"
    }
  },
  "cells": [
    {
      "cell_type": "markdown",
      "metadata": {
        "id": "VboKwPUKLtQm"
      },
      "source": [
        "# PyTorch Basics"
      ]
    },
    {
      "cell_type": "markdown",
      "metadata": {
        "id": "j0AE_LD9LywH"
      },
      "source": [
        "## 모듈 불러오기"
      ]
    },
    {
      "cell_type": "code",
      "metadata": {
        "id": "pMulwJ5ALkFi"
      },
      "source": [
        "import torch \n",
        "import torchvision\n",
        "import torch.nn as nn\n",
        "import numpy as np\n",
        "import torchvision.transforms as transforms\n"
      ],
      "execution_count": null,
      "outputs": []
    },
    {
      "cell_type": "markdown",
      "metadata": {
        "id": "QRBN4dtOL5sP"
      },
      "source": [
        "## Basic autograd example 1"
      ]
    },
    {
      "cell_type": "markdown",
      "metadata": {
        "id": "hJW2FnJ8MP0h"
      },
      "source": [
        "#### Create tensors."
      ]
    },
    {
      "cell_type": "code",
      "metadata": {
        "id": "A88rkOoyMR1G"
      },
      "source": [
        "# Create tensors.\n",
        "x = torch.tensor(1., requires_grad=True)\n",
        "w = torch.tensor(2., requires_grad=True)\n",
        "b = torch.tensor(3., requires_grad=True)"
      ],
      "execution_count": null,
      "outputs": []
    },
    {
      "cell_type": "markdown",
      "metadata": {
        "id": "EEKgpW-3MMVJ"
      },
      "source": [
        "#### Build a computational graph."
      ]
    },
    {
      "cell_type": "markdown",
      "metadata": {
        "id": "fGwM7KR_O8gj"
      },
      "source": [
        "![대체 텍스트](https://i.imgur.com/iUhWEj2.png)"
      ]
    },
    {
      "cell_type": "code",
      "metadata": {
        "id": "LTQQZksmMHoC"
      },
      "source": [
        "y = w * x + b    # y = 2 * x + 3"
      ],
      "execution_count": null,
      "outputs": []
    },
    {
      "cell_type": "markdown",
      "metadata": {
        "id": "3x2WNAitTwyA"
      },
      "source": [
        ""
      ]
    },
    {
      "cell_type": "markdown",
      "metadata": {
        "id": "ZtnIhNfFMTb6"
      },
      "source": [
        "#### Compute gradients."
      ]
    },
    {
      "cell_type": "code",
      "metadata": {
        "id": "F8LryZt3MW3m",
        "outputId": "9e42f01d-3f3f-44df-fa3c-8a0beb42d054",
        "colab": {
          "base_uri": "https://localhost:8080/",
          "height": 73
        }
      },
      "source": [
        "# Compute gradients.\n",
        "y.backward()\n",
        "\n",
        "# Print out the gradients.\n",
        "print(x.grad)    # x.grad = 2 \n",
        "print(w.grad)    # w.grad = 1 \n",
        "print(b.grad)    # b.grad = 1 "
      ],
      "execution_count": null,
      "outputs": [
        {
          "output_type": "stream",
          "text": [
            "tensor(2.)\n",
            "tensor(1.)\n",
            "tensor(1.)\n"
          ],
          "name": "stdout"
        }
      ]
    },
    {
      "cell_type": "markdown",
      "metadata": {
        "id": "4--omaxeMvc0"
      },
      "source": [
        "## 2. Basic autograd example 2"
      ]
    },
    {
      "cell_type": "markdown",
      "metadata": {
        "id": "bUv9s3gpM0Hz"
      },
      "source": [
        "#### Create tensors of shape (10, 3) and (10, 2)."
      ]
    },
    {
      "cell_type": "code",
      "metadata": {
        "id": "kEZz1jknMusk"
      },
      "source": [
        "x = torch.randn(10, 3)\n",
        "y = torch.randn(10, 2)\n"
      ],
      "execution_count": null,
      "outputs": []
    },
    {
      "cell_type": "markdown",
      "metadata": {
        "id": "fXXh4dUkNFm2"
      },
      "source": [
        "#### 데이터 확인"
      ]
    },
    {
      "cell_type": "code",
      "metadata": {
        "id": "FM2sVNqqNAQ5",
        "outputId": "67432b0f-592e-4f14-df6f-501da04e2a80",
        "colab": {
          "base_uri": "https://localhost:8080/",
          "height": 391
        }
      },
      "source": [
        "print(x)\n",
        "print(y)"
      ],
      "execution_count": null,
      "outputs": [
        {
          "output_type": "stream",
          "text": [
            "tensor([[-1.1282e+00,  1.1983e+00,  1.5670e+00],\n",
            "        [ 7.8507e-01,  1.6685e-01, -5.9059e-01],\n",
            "        [-1.3745e+00,  8.5719e-01,  1.5289e+00],\n",
            "        [-8.3842e-01, -3.5465e-01,  1.6365e+00],\n",
            "        [-3.6387e-01,  1.1225e+00,  1.3041e+00],\n",
            "        [-5.6778e-01, -1.3866e+00, -2.8627e+00],\n",
            "        [-6.3000e-01,  1.8152e+00, -1.0477e+00],\n",
            "        [ 1.5239e-01,  4.3888e-01, -2.6410e-01],\n",
            "        [-7.6482e-01, -1.1244e+00, -2.5247e-03],\n",
            "        [-9.6004e-01, -2.6096e-01,  9.1403e-01]])\n",
            "tensor([[-0.8108,  0.7518],\n",
            "        [ 2.9692,  0.0637],\n",
            "        [ 0.5839,  1.6546],\n",
            "        [-0.4771,  0.7938],\n",
            "        [-1.0911, -0.2944],\n",
            "        [-1.9389,  0.4978],\n",
            "        [ 0.7001,  0.2896],\n",
            "        [ 0.8992,  0.5689],\n",
            "        [-1.4872, -0.7135],\n",
            "        [ 0.3730,  1.4379]])\n"
          ],
          "name": "stdout"
        }
      ]
    },
    {
      "cell_type": "markdown",
      "metadata": {
        "id": "NfcJ6gmSNIle"
      },
      "source": [
        "#### Build a fully connected layer.\n"
      ]
    },
    {
      "cell_type": "code",
      "metadata": {
        "id": "l52JnwbHNM5g",
        "outputId": "58aa06e8-6904-4216-a871-b9e059d625e9",
        "colab": {
          "base_uri": "https://localhost:8080/",
          "height": 111
        }
      },
      "source": [
        "linear = nn.Linear(3, 2)\n",
        "print ('w: ', linear.weight)\n",
        "print ('b: ', linear.bias)"
      ],
      "execution_count": null,
      "outputs": [
        {
          "output_type": "stream",
          "text": [
            "w:  Parameter containing:\n",
            "tensor([[0.3100, 0.2056, 0.1008],\n",
            "        [0.1103, 0.0035, 0.3608]], requires_grad=True)\n",
            "b:  Parameter containing:\n",
            "tensor([-0.1090, -0.0372], requires_grad=True)\n"
          ],
          "name": "stdout"
        }
      ]
    },
    {
      "cell_type": "markdown",
      "metadata": {
        "id": "SCSLmnyINgMe"
      },
      "source": [
        "#### Build loss function and optimizer."
      ]
    },
    {
      "cell_type": "markdown",
      "metadata": {
        "id": "8bGL7OK6LN5Z"
      },
      "source": [
        "MSE:\n",
        "\n",
        "$ℓ(x,y)=L=\\{l_1,...,l_N\\}^T,  l_n=(x_n-y_n)^2$\n",
        "\n",
        "N 은 배치 크기"
      ]
    },
    {
      "cell_type": "code",
      "metadata": {
        "id": "uUFpc5W5Nj01"
      },
      "source": [
        "criterion = nn.MSELoss()\n",
        "optimizer = torch.optim.SGD(linear.parameters(), lr=0.01)"
      ],
      "execution_count": null,
      "outputs": []
    },
    {
      "cell_type": "markdown",
      "metadata": {
        "id": "mk77KdMxNmIu"
      },
      "source": [
        "#### Forward pass"
      ]
    },
    {
      "cell_type": "code",
      "metadata": {
        "id": "rO68jF7fNq9c"
      },
      "source": [
        "pred = linear(x)"
      ],
      "execution_count": null,
      "outputs": []
    },
    {
      "cell_type": "code",
      "metadata": {
        "id": "fEZeP4K_LyWb",
        "outputId": "f0d2a376-5d44-41f9-9e68-a0027e454493",
        "colab": {
          "base_uri": "https://localhost:8080/",
          "height": 204
        }
      },
      "source": [
        "print(pred)"
      ],
      "execution_count": null,
      "outputs": [
        {
          "output_type": "stream",
          "text": [
            "tensor([[-0.0543,  0.4078],\n",
            "        [ 0.1091, -0.1631],\n",
            "        [-0.2046,  0.3657],\n",
            "        [-0.2767,  0.4594],\n",
            "        [ 0.1405,  0.3970],\n",
            "        [-0.8587, -1.1375],\n",
            "        [-0.0367, -0.4783],\n",
            "        [ 0.0019, -0.1142],\n",
            "        [-0.5774, -0.1265],\n",
            "        [-0.3680,  0.1857]], grad_fn=<AddmmBackward>)\n"
          ],
          "name": "stdout"
        }
      ]
    },
    {
      "cell_type": "markdown",
      "metadata": {
        "id": "l3WVtM-pNsAT"
      },
      "source": [
        "#### Compute loss."
      ]
    },
    {
      "cell_type": "code",
      "metadata": {
        "id": "_yUuoP4rNzu8",
        "outputId": "0406d441-738e-42e7-b756-2a910529a387",
        "colab": {
          "base_uri": "https://localhost:8080/",
          "height": 36
        }
      },
      "source": [
        "loss = criterion(pred, y)\n",
        "print('loss: ', loss.item())"
      ],
      "execution_count": null,
      "outputs": [
        {
          "output_type": "stream",
          "text": [
            "loss:  1.1443209648132324\n"
          ],
          "name": "stdout"
        }
      ]
    },
    {
      "cell_type": "code",
      "metadata": {
        "id": "Qi0CMir0JXZh",
        "outputId": "b6badb9c-558c-4b14-8c32-4b42047b450a",
        "colab": {
          "base_uri": "https://localhost:8080/",
          "height": 36
        }
      },
      "source": [
        "np.mean(np.square(pred.detach().numpy()-y.numpy()))"
      ],
      "execution_count": null,
      "outputs": [
        {
          "output_type": "execute_result",
          "data": {
            "text/plain": [
              "1.1443207"
            ]
          },
          "metadata": {
            "tags": []
          },
          "execution_count": 12
        }
      ]
    },
    {
      "cell_type": "markdown",
      "metadata": {
        "id": "nXo4PZVnOBhK"
      },
      "source": [
        "#### Backward pass."
      ]
    },
    {
      "cell_type": "code",
      "metadata": {
        "id": "8ls1nmQCOFZy"
      },
      "source": [
        "loss.backward()"
      ],
      "execution_count": null,
      "outputs": []
    },
    {
      "cell_type": "markdown",
      "metadata": {
        "id": "xccWGnseOGgO"
      },
      "source": [
        "#### Print out the weights and gradients."
      ]
    },
    {
      "cell_type": "code",
      "metadata": {
        "id": "gUFWDtmmHn2P",
        "outputId": "d6f2ad7c-08ac-47cb-f982-3617c979695a",
        "colab": {
          "base_uri": "https://localhost:8080/",
          "height": 111
        }
      },
      "source": [
        "print ('w: ', linear.weight)\n",
        "print ('b: ', linear.bias)"
      ],
      "execution_count": null,
      "outputs": [
        {
          "output_type": "stream",
          "text": [
            "w:  Parameter containing:\n",
            "tensor([[0.3100, 0.2056, 0.1008],\n",
            "        [0.1103, 0.0035, 0.3608]], requires_grad=True)\n",
            "b:  Parameter containing:\n",
            "tensor([-0.1090, -0.0372], requires_grad=True)\n"
          ],
          "name": "stdout"
        }
      ]
    },
    {
      "cell_type": "code",
      "metadata": {
        "id": "mP8hhjdyOJ9d",
        "outputId": "403c5f81-5a03-48cb-be37-449eb7fd0725",
        "colab": {
          "base_uri": "https://localhost:8080/",
          "height": 73
        }
      },
      "source": [
        "print ('dL/dw: ', linear.weight.grad) \n",
        "print ('dL/db: ', linear.bias.grad)"
      ],
      "execution_count": null,
      "outputs": [
        {
          "output_type": "stream",
          "text": [
            "dL/dw:  tensor([[-0.2902, -0.2994,  0.0840],\n",
            "        [ 0.4072, -0.0419,  0.2499]])\n",
            "dL/db:  tensor([-0.1845, -0.5254])\n"
          ],
          "name": "stdout"
        }
      ]
    },
    {
      "cell_type": "markdown",
      "metadata": {
        "id": "BwuqV7wWOLKJ"
      },
      "source": [
        "#### 1-step gradient descent.\n",
        "\n",
        "weight - learning_rate * gradient\n"
      ]
    },
    {
      "cell_type": "code",
      "metadata": {
        "id": "IJOGfFGhUSlq",
        "outputId": "dc09243c-b7f0-46b1-d9c7-b656c9bea1d8",
        "colab": {
          "base_uri": "https://localhost:8080/",
          "height": 55
        }
      },
      "source": [
        "linear.weight - 0.01 * linear.weight.grad"
      ],
      "execution_count": null,
      "outputs": [
        {
          "output_type": "execute_result",
          "data": {
            "text/plain": [
              "tensor([[0.3129, 0.2086, 0.1000],\n",
              "        [0.1062, 0.0039, 0.3583]], grad_fn=<SubBackward0>)"
            ]
          },
          "metadata": {
            "tags": []
          },
          "execution_count": 16
        }
      ]
    },
    {
      "cell_type": "code",
      "metadata": {
        "id": "d8No7Cv0OOOu"
      },
      "source": [
        "optimizer.step()"
      ],
      "execution_count": null,
      "outputs": []
    },
    {
      "cell_type": "code",
      "metadata": {
        "id": "gVrxbQ-GVXKE",
        "outputId": "d83049a3-4d46-426a-dad3-1c4903d35448",
        "colab": {
          "base_uri": "https://localhost:8080/",
          "height": 111
        }
      },
      "source": [
        "print ('w: ', linear.weight)\n",
        "print ('b: ', linear.bias)"
      ],
      "execution_count": null,
      "outputs": [
        {
          "output_type": "stream",
          "text": [
            "w:  Parameter containing:\n",
            "tensor([[0.3129, 0.2086, 0.1000],\n",
            "        [0.1062, 0.0039, 0.3583]], requires_grad=True)\n",
            "b:  Parameter containing:\n",
            "tensor([-0.1071, -0.0320], requires_grad=True)\n"
          ],
          "name": "stdout"
        }
      ]
    },
    {
      "cell_type": "markdown",
      "metadata": {
        "id": "AY4bqEA1OPVb"
      },
      "source": [
        "#### Print out the loss after 1-step gradient descent."
      ]
    },
    {
      "cell_type": "code",
      "metadata": {
        "id": "9K9ONou8OUKx",
        "outputId": "20bec150-26e4-4e02-e24a-e0966bfc855c",
        "colab": {
          "base_uri": "https://localhost:8080/",
          "height": 36
        }
      },
      "source": [
        "pred = linear(x)\n",
        "loss = criterion(pred, y)\n",
        "print('loss after 1 step optimization: ', loss.item())"
      ],
      "execution_count": null,
      "outputs": [
        {
          "output_type": "stream",
          "text": [
            "loss after 1 step optimization:  1.1371476650238037\n"
          ],
          "name": "stdout"
        }
      ]
    }
  ]
}