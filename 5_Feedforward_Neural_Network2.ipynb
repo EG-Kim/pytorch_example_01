{
  "nbformat": 4,
  "nbformat_minor": 0,
  "metadata": {
    "colab": {
      "name": "5. Feedforward Neural Network2.ipynb",
      "provenance": [],
      "authorship_tag": "ABX9TyN4eHluJA339a8CZPaArSt8"
    },
    "kernelspec": {
      "name": "python3",
      "display_name": "Python 3"
    }
  },
  "cells": [
    {
      "cell_type": "code",
      "metadata": {
        "id": "X2LT1TECI-bk"
      },
      "source": [
        ""
      ],
      "execution_count": null,
      "outputs": []
    }
  ]
}